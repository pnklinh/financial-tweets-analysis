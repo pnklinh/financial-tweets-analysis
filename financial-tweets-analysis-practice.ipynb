{
 "cells": [
  {
   "cell_type": "markdown",
   "id": "a42c758f",
   "metadata": {
    "papermill": {
     "duration": 0.004896,
     "end_time": "2023-05-19T16:15:02.802255",
     "exception": false,
     "start_time": "2023-05-19T16:15:02.797359",
     "status": "completed"
    },
    "tags": []
   },
   "source": [
    "# **Setting up**"
   ]
  },
  {
   "cell_type": "code",
   "execution_count": 1,
   "id": "12595326",
   "metadata": {
    "execution": {
     "iopub.execute_input": "2023-05-19T16:15:02.813042Z",
     "iopub.status.busy": "2023-05-19T16:15:02.812672Z",
     "iopub.status.idle": "2023-05-19T16:15:04.332607Z",
     "shell.execute_reply": "2023-05-19T16:15:04.331605Z"
    },
    "papermill": {
     "duration": 1.527741,
     "end_time": "2023-05-19T16:15:04.334706",
     "exception": false,
     "start_time": "2023-05-19T16:15:02.806965",
     "status": "completed"
    },
    "tags": []
   },
   "outputs": [
    {
     "name": "stderr",
     "output_type": "stream",
     "text": [
      "/opt/conda/lib/python3.10/site-packages/scipy/__init__.py:146: UserWarning: A NumPy version >=1.16.5 and <1.23.0 is required for this version of SciPy (detected version 1.23.5\n",
      "  warnings.warn(f\"A NumPy version >={np_minversion} and <{np_maxversion}\"\n",
      "/tmp/ipykernel_20/2363441611.py:9: FutureWarning: The error_bad_lines argument has been deprecated and will be removed in a future version. Use on_bad_lines in the future.\n",
      "\n",
      "\n",
      "  stock_data=pd.read_csv(\"../input/financial-tweets/stockerbot-export.csv\", error_bad_lines=False)\n",
      "Skipping line 731: expected 8 fields, saw 13\n",
      "Skipping line 2836: expected 8 fields, saw 15\n",
      "Skipping line 3058: expected 8 fields, saw 12\n",
      "Skipping line 3113: expected 8 fields, saw 12\n",
      "Skipping line 3194: expected 8 fields, saw 17\n",
      "Skipping line 3205: expected 8 fields, saw 17\n",
      "Skipping line 3255: expected 8 fields, saw 17\n",
      "Skipping line 3520: expected 8 fields, saw 17\n",
      "Skipping line 4078: expected 8 fields, saw 17\n",
      "Skipping line 4087: expected 8 fields, saw 17\n",
      "Skipping line 4088: expected 8 fields, saw 17\n",
      "Skipping line 4499: expected 8 fields, saw 12\n",
      "\n"
     ]
    },
    {
     "data": {
      "text/html": [
       "<div>\n",
       "<style scoped>\n",
       "    .dataframe tbody tr th:only-of-type {\n",
       "        vertical-align: middle;\n",
       "    }\n",
       "\n",
       "    .dataframe tbody tr th {\n",
       "        vertical-align: top;\n",
       "    }\n",
       "\n",
       "    .dataframe thead th {\n",
       "        text-align: right;\n",
       "    }\n",
       "</style>\n",
       "<table border=\"1\" class=\"dataframe\">\n",
       "  <thead>\n",
       "    <tr style=\"text-align: right;\">\n",
       "      <th></th>\n",
       "      <th>id</th>\n",
       "      <th>text</th>\n",
       "      <th>timestamp</th>\n",
       "      <th>source</th>\n",
       "      <th>symbols</th>\n",
       "      <th>company_names</th>\n",
       "      <th>url</th>\n",
       "      <th>verified</th>\n",
       "    </tr>\n",
       "  </thead>\n",
       "  <tbody>\n",
       "    <tr>\n",
       "      <th>0</th>\n",
       "      <td>1019696670777503700</td>\n",
       "      <td>VIDEO: “I was in my office. I was minding my o...</td>\n",
       "      <td>Wed Jul 18 21:33:26 +0000 2018</td>\n",
       "      <td>GoldmanSachs</td>\n",
       "      <td>GS</td>\n",
       "      <td>The Goldman Sachs</td>\n",
       "      <td>https://twitter.com/i/web/status/1019696670777...</td>\n",
       "      <td>True</td>\n",
       "    </tr>\n",
       "    <tr>\n",
       "      <th>1</th>\n",
       "      <td>1019709091038548000</td>\n",
       "      <td>The price of lumber $LB_F is down 22% since hi...</td>\n",
       "      <td>Wed Jul 18 22:22:47 +0000 2018</td>\n",
       "      <td>StockTwits</td>\n",
       "      <td>M</td>\n",
       "      <td>Macy's</td>\n",
       "      <td>https://twitter.com/i/web/status/1019709091038...</td>\n",
       "      <td>True</td>\n",
       "    </tr>\n",
       "    <tr>\n",
       "      <th>2</th>\n",
       "      <td>1019711413798035500</td>\n",
       "      <td>Who says the American Dream is dead? https://t...</td>\n",
       "      <td>Wed Jul 18 22:32:01 +0000 2018</td>\n",
       "      <td>TheStreet</td>\n",
       "      <td>AIG</td>\n",
       "      <td>American</td>\n",
       "      <td>https://buff.ly/2L3kmc4</td>\n",
       "      <td>True</td>\n",
       "    </tr>\n",
       "    <tr>\n",
       "      <th>3</th>\n",
       "      <td>1019716662587740200</td>\n",
       "      <td>Barry Silbert is extremely optimistic on bitco...</td>\n",
       "      <td>Wed Jul 18 22:52:52 +0000 2018</td>\n",
       "      <td>MarketWatch</td>\n",
       "      <td>BTC</td>\n",
       "      <td>Bitcoin</td>\n",
       "      <td>https://twitter.com/i/web/status/1019716662587...</td>\n",
       "      <td>True</td>\n",
       "    </tr>\n",
       "    <tr>\n",
       "      <th>4</th>\n",
       "      <td>1019718460287389700</td>\n",
       "      <td>How satellites avoid attacks and space junk wh...</td>\n",
       "      <td>Wed Jul 18 23:00:01 +0000 2018</td>\n",
       "      <td>Forbes</td>\n",
       "      <td>ORCL</td>\n",
       "      <td>Oracle</td>\n",
       "      <td>http://on.forbes.com/6013DqDDU</td>\n",
       "      <td>True</td>\n",
       "    </tr>\n",
       "  </tbody>\n",
       "</table>\n",
       "</div>"
      ],
      "text/plain": [
       "                    id                                               text  \\\n",
       "0  1019696670777503700  VIDEO: “I was in my office. I was minding my o...   \n",
       "1  1019709091038548000  The price of lumber $LB_F is down 22% since hi...   \n",
       "2  1019711413798035500  Who says the American Dream is dead? https://t...   \n",
       "3  1019716662587740200  Barry Silbert is extremely optimistic on bitco...   \n",
       "4  1019718460287389700  How satellites avoid attacks and space junk wh...   \n",
       "\n",
       "                        timestamp        source symbols      company_names  \\\n",
       "0  Wed Jul 18 21:33:26 +0000 2018  GoldmanSachs      GS  The Goldman Sachs   \n",
       "1  Wed Jul 18 22:22:47 +0000 2018    StockTwits       M             Macy's   \n",
       "2  Wed Jul 18 22:32:01 +0000 2018     TheStreet     AIG           American   \n",
       "3  Wed Jul 18 22:52:52 +0000 2018   MarketWatch     BTC            Bitcoin   \n",
       "4  Wed Jul 18 23:00:01 +0000 2018        Forbes    ORCL             Oracle   \n",
       "\n",
       "                                                 url  verified  \n",
       "0  https://twitter.com/i/web/status/1019696670777...      True  \n",
       "1  https://twitter.com/i/web/status/1019709091038...      True  \n",
       "2                            https://buff.ly/2L3kmc4      True  \n",
       "3  https://twitter.com/i/web/status/1019716662587...      True  \n",
       "4                     http://on.forbes.com/6013DqDDU      True  "
      ]
     },
     "execution_count": 1,
     "metadata": {},
     "output_type": "execute_result"
    }
   ],
   "source": [
    "import pandas as pd\n",
    "import numpy as np\n",
    "pd.plotting.register_matplotlib_converters()\n",
    "import matplotlib.pyplot as plt\n",
    "%matplotlib inline\n",
    "import seaborn as sns\n",
    "\n",
    "stocks=pd.read_csv(\"../input/financial-tweets/stocks_cleaned.csv\")\n",
    "stock_data=pd.read_csv(\"../input/financial-tweets/stockerbot-export.csv\", error_bad_lines=False)\n",
    "stock_data.head()"
   ]
  },
  {
   "cell_type": "markdown",
   "id": "3c67687e",
   "metadata": {
    "papermill": {
     "duration": 0.004469,
     "end_time": "2023-05-19T16:15:04.344228",
     "exception": false,
     "start_time": "2023-05-19T16:15:04.339759",
     "status": "completed"
    },
    "tags": []
   },
   "source": [
    "# **Data cleaning**"
   ]
  },
  {
   "cell_type": "markdown",
   "id": "1f58b792",
   "metadata": {
    "papermill": {
     "duration": 0.004523,
     "end_time": "2023-05-19T16:15:04.353380",
     "exception": false,
     "start_time": "2023-05-19T16:15:04.348857",
     "status": "completed"
    },
    "tags": []
   },
   "source": [
    "# Missing data"
   ]
  },
  {
   "cell_type": "code",
   "execution_count": 2,
   "id": "3f8c7911",
   "metadata": {
    "execution": {
     "iopub.execute_input": "2023-05-19T16:15:04.364019Z",
     "iopub.status.busy": "2023-05-19T16:15:04.363654Z",
     "iopub.status.idle": "2023-05-19T16:15:04.406821Z",
     "shell.execute_reply": "2023-05-19T16:15:04.405521Z"
    },
    "papermill": {
     "duration": 0.05083,
     "end_time": "2023-05-19T16:15:04.408840",
     "exception": false,
     "start_time": "2023-05-19T16:15:04.358010",
     "status": "completed"
    },
    "tags": []
   },
   "outputs": [
    {
     "data": {
      "text/plain": [
       "id                  0\n",
       "text                0\n",
       "timestamp           0\n",
       "source              0\n",
       "symbols             0\n",
       "company_names       1\n",
       "url              6369\n",
       "verified            0\n",
       "dtype: int64"
      ]
     },
     "execution_count": 2,
     "metadata": {},
     "output_type": "execute_result"
    }
   ],
   "source": [
    "#what type of data is missing \n",
    "#the number of missing data\n",
    "missing_values_count = stock_data.isnull().sum()\n",
    "missing_values_count\n"
   ]
  },
  {
   "cell_type": "code",
   "execution_count": 3,
   "id": "75d5bc90",
   "metadata": {
    "execution": {
     "iopub.execute_input": "2023-05-19T16:15:04.424474Z",
     "iopub.status.busy": "2023-05-19T16:15:04.424091Z",
     "iopub.status.idle": "2023-05-19T16:15:04.427857Z",
     "shell.execute_reply": "2023-05-19T16:15:04.427137Z"
    },
    "papermill": {
     "duration": 0.014253,
     "end_time": "2023-05-19T16:15:04.429886",
     "exception": false,
     "start_time": "2023-05-19T16:15:04.415633",
     "status": "completed"
    },
    "tags": []
   },
   "outputs": [],
   "source": [
    "#the only column with missing data is 'url'"
   ]
  },
  {
   "cell_type": "code",
   "execution_count": 4,
   "id": "4f7d1abf",
   "metadata": {
    "execution": {
     "iopub.execute_input": "2023-05-19T16:15:04.441403Z",
     "iopub.status.busy": "2023-05-19T16:15:04.441054Z",
     "iopub.status.idle": "2023-05-19T16:15:04.447048Z",
     "shell.execute_reply": "2023-05-19T16:15:04.446089Z"
    },
    "papermill": {
     "duration": 0.014035,
     "end_time": "2023-05-19T16:15:04.449067",
     "exception": false,
     "start_time": "2023-05-19T16:15:04.435032",
     "status": "completed"
    },
    "tags": []
   },
   "outputs": [
    {
     "name": "stdout",
     "output_type": "stream",
     "text": [
      "226112\n",
      "2.8171879422587036\n"
     ]
    }
   ],
   "source": [
    "total_cells = np.product(stock_data.shape)\n",
    "print(total_cells)\n",
    "total_missing = missing_values_count.sum()\n",
    "# percent of data that is missing\n",
    "percent_missing = (total_missing/total_cells) * 100\n",
    "print(percent_missing)"
   ]
  },
  {
   "cell_type": "code",
   "execution_count": 5,
   "id": "6b688ff3",
   "metadata": {
    "execution": {
     "iopub.execute_input": "2023-05-19T16:15:04.460542Z",
     "iopub.status.busy": "2023-05-19T16:15:04.460238Z",
     "iopub.status.idle": "2023-05-19T16:15:04.514785Z",
     "shell.execute_reply": "2023-05-19T16:15:04.513595Z"
    },
    "papermill": {
     "duration": 0.062724,
     "end_time": "2023-05-19T16:15:04.516799",
     "exception": false,
     "start_time": "2023-05-19T16:15:04.454075",
     "status": "completed"
    },
    "tags": []
   },
   "outputs": [
    {
     "data": {
      "text/html": [
       "<div>\n",
       "<style scoped>\n",
       "    .dataframe tbody tr th:only-of-type {\n",
       "        vertical-align: middle;\n",
       "    }\n",
       "\n",
       "    .dataframe tbody tr th {\n",
       "        vertical-align: top;\n",
       "    }\n",
       "\n",
       "    .dataframe thead th {\n",
       "        text-align: right;\n",
       "    }\n",
       "</style>\n",
       "<table border=\"1\" class=\"dataframe\">\n",
       "  <thead>\n",
       "    <tr style=\"text-align: right;\">\n",
       "      <th></th>\n",
       "      <th>id</th>\n",
       "      <th>text</th>\n",
       "      <th>timestamp</th>\n",
       "      <th>source</th>\n",
       "      <th>symbols</th>\n",
       "      <th>company_names</th>\n",
       "      <th>url</th>\n",
       "      <th>verified</th>\n",
       "    </tr>\n",
       "  </thead>\n",
       "  <tbody>\n",
       "    <tr>\n",
       "      <th>0</th>\n",
       "      <td>1019696670777503700</td>\n",
       "      <td>VIDEO: “I was in my office. I was minding my o...</td>\n",
       "      <td>Wed Jul 18 21:33:26 +0000 2018</td>\n",
       "      <td>GoldmanSachs</td>\n",
       "      <td>GS</td>\n",
       "      <td>The Goldman Sachs</td>\n",
       "      <td>https://twitter.com/i/web/status/1019696670777...</td>\n",
       "      <td>True</td>\n",
       "    </tr>\n",
       "    <tr>\n",
       "      <th>1</th>\n",
       "      <td>1019709091038548000</td>\n",
       "      <td>The price of lumber $LB_F is down 22% since hi...</td>\n",
       "      <td>Wed Jul 18 22:22:47 +0000 2018</td>\n",
       "      <td>StockTwits</td>\n",
       "      <td>M</td>\n",
       "      <td>Macy's</td>\n",
       "      <td>https://twitter.com/i/web/status/1019709091038...</td>\n",
       "      <td>True</td>\n",
       "    </tr>\n",
       "    <tr>\n",
       "      <th>2</th>\n",
       "      <td>1019711413798035500</td>\n",
       "      <td>Who says the American Dream is dead? https://t...</td>\n",
       "      <td>Wed Jul 18 22:32:01 +0000 2018</td>\n",
       "      <td>TheStreet</td>\n",
       "      <td>AIG</td>\n",
       "      <td>American</td>\n",
       "      <td>https://buff.ly/2L3kmc4</td>\n",
       "      <td>True</td>\n",
       "    </tr>\n",
       "    <tr>\n",
       "      <th>3</th>\n",
       "      <td>1019716662587740200</td>\n",
       "      <td>Barry Silbert is extremely optimistic on bitco...</td>\n",
       "      <td>Wed Jul 18 22:52:52 +0000 2018</td>\n",
       "      <td>MarketWatch</td>\n",
       "      <td>BTC</td>\n",
       "      <td>Bitcoin</td>\n",
       "      <td>https://twitter.com/i/web/status/1019716662587...</td>\n",
       "      <td>True</td>\n",
       "    </tr>\n",
       "    <tr>\n",
       "      <th>4</th>\n",
       "      <td>1019718460287389700</td>\n",
       "      <td>How satellites avoid attacks and space junk wh...</td>\n",
       "      <td>Wed Jul 18 23:00:01 +0000 2018</td>\n",
       "      <td>Forbes</td>\n",
       "      <td>ORCL</td>\n",
       "      <td>Oracle</td>\n",
       "      <td>http://on.forbes.com/6013DqDDU</td>\n",
       "      <td>True</td>\n",
       "    </tr>\n",
       "    <tr>\n",
       "      <th>...</th>\n",
       "      <td>...</td>\n",
       "      <td>...</td>\n",
       "      <td>...</td>\n",
       "      <td>...</td>\n",
       "      <td>...</td>\n",
       "      <td>...</td>\n",
       "      <td>...</td>\n",
       "      <td>...</td>\n",
       "    </tr>\n",
       "    <tr>\n",
       "      <th>28256</th>\n",
       "      <td>1019730035576623100</td>\n",
       "      <td>Exxon Once a ‘Perfect Machine’ Is Running Dry ...</td>\n",
       "      <td>Wed Jul 18 23:46:00 +0000 2018</td>\n",
       "      <td>danhyder</td>\n",
       "      <td>XOM</td>\n",
       "      <td>Exxon Mobil Corporation</td>\n",
       "      <td>https://twitter.com/i/web/status/1019730035576...</td>\n",
       "      <td>False</td>\n",
       "    </tr>\n",
       "    <tr>\n",
       "      <th>28260</th>\n",
       "      <td>1019730115524288500</td>\n",
       "      <td>【仮想通貨】ビットコインの価格上昇、８０万円台回復　約１カ月半ぶり　　　　　　$BTC ht...</td>\n",
       "      <td>Wed Jul 18 23:46:19 +0000 2018</td>\n",
       "      <td>keizai_toushi17</td>\n",
       "      <td>BTC</td>\n",
       "      <td>Bitcoin</td>\n",
       "      <td>http://keizai-toushi-navi.com/?p=26838</td>\n",
       "      <td>False</td>\n",
       "    </tr>\n",
       "    <tr>\n",
       "      <th>28261</th>\n",
       "      <td>1019730115805184000</td>\n",
       "      <td>RT @invest_in_hd: 'Nuff said!  $TEL #telcoin #...</td>\n",
       "      <td>Wed Jul 18 23:46:19 +0000 2018</td>\n",
       "      <td>iad81</td>\n",
       "      <td>BTC</td>\n",
       "      <td>Bitcoin</td>\n",
       "      <td>https://twitter.com/CRYPTOVERLOAD/status/10178...</td>\n",
       "      <td>False</td>\n",
       "    </tr>\n",
       "    <tr>\n",
       "      <th>28262</th>\n",
       "      <td>1019730117252341800</td>\n",
       "      <td>【仮想通貨】ビットコインの価格上昇、８０万円台回復　約１カ月半ぶり　　　　　　$BTC ht...</td>\n",
       "      <td>Wed Jul 18 23:46:20 +0000 2018</td>\n",
       "      <td>O8viWMyrCV6cBOZ</td>\n",
       "      <td>BTC</td>\n",
       "      <td>Bitcoin</td>\n",
       "      <td>http://true.velvet.jp/monexx/archives/2357</td>\n",
       "      <td>False</td>\n",
       "    </tr>\n",
       "    <tr>\n",
       "      <th>28263</th>\n",
       "      <td>1019730146180419600</td>\n",
       "      <td>Stellar $XLM price: $0.297852 Binance registra...</td>\n",
       "      <td>Wed Jul 18 23:46:27 +0000 2018</td>\n",
       "      <td>Descendent92</td>\n",
       "      <td>AMP</td>\n",
       "      <td>Ameriprise Financial</td>\n",
       "      <td>https://twitter.com/i/web/status/1019730146180...</td>\n",
       "      <td>False</td>\n",
       "    </tr>\n",
       "  </tbody>\n",
       "</table>\n",
       "<p>21895 rows × 8 columns</p>\n",
       "</div>"
      ],
      "text/plain": [
       "                        id                                               text  \\\n",
       "0      1019696670777503700  VIDEO: “I was in my office. I was minding my o...   \n",
       "1      1019709091038548000  The price of lumber $LB_F is down 22% since hi...   \n",
       "2      1019711413798035500  Who says the American Dream is dead? https://t...   \n",
       "3      1019716662587740200  Barry Silbert is extremely optimistic on bitco...   \n",
       "4      1019718460287389700  How satellites avoid attacks and space junk wh...   \n",
       "...                    ...                                                ...   \n",
       "28256  1019730035576623100  Exxon Once a ‘Perfect Machine’ Is Running Dry ...   \n",
       "28260  1019730115524288500  【仮想通貨】ビットコインの価格上昇、８０万円台回復　約１カ月半ぶり　　　　　　$BTC ht...   \n",
       "28261  1019730115805184000  RT @invest_in_hd: 'Nuff said!  $TEL #telcoin #...   \n",
       "28262  1019730117252341800  【仮想通貨】ビットコインの価格上昇、８０万円台回復　約１カ月半ぶり　　　　　　$BTC ht...   \n",
       "28263  1019730146180419600  Stellar $XLM price: $0.297852 Binance registra...   \n",
       "\n",
       "                            timestamp           source symbols  \\\n",
       "0      Wed Jul 18 21:33:26 +0000 2018     GoldmanSachs      GS   \n",
       "1      Wed Jul 18 22:22:47 +0000 2018       StockTwits       M   \n",
       "2      Wed Jul 18 22:32:01 +0000 2018        TheStreet     AIG   \n",
       "3      Wed Jul 18 22:52:52 +0000 2018      MarketWatch     BTC   \n",
       "4      Wed Jul 18 23:00:01 +0000 2018           Forbes    ORCL   \n",
       "...                               ...              ...     ...   \n",
       "28256  Wed Jul 18 23:46:00 +0000 2018         danhyder     XOM   \n",
       "28260  Wed Jul 18 23:46:19 +0000 2018  keizai_toushi17     BTC   \n",
       "28261  Wed Jul 18 23:46:19 +0000 2018            iad81     BTC   \n",
       "28262  Wed Jul 18 23:46:20 +0000 2018  O8viWMyrCV6cBOZ     BTC   \n",
       "28263  Wed Jul 18 23:46:27 +0000 2018     Descendent92     AMP   \n",
       "\n",
       "                 company_names  \\\n",
       "0            The Goldman Sachs   \n",
       "1                       Macy's   \n",
       "2                     American   \n",
       "3                      Bitcoin   \n",
       "4                       Oracle   \n",
       "...                        ...   \n",
       "28256  Exxon Mobil Corporation   \n",
       "28260                  Bitcoin   \n",
       "28261                  Bitcoin   \n",
       "28262                  Bitcoin   \n",
       "28263     Ameriprise Financial   \n",
       "\n",
       "                                                     url  verified  \n",
       "0      https://twitter.com/i/web/status/1019696670777...      True  \n",
       "1      https://twitter.com/i/web/status/1019709091038...      True  \n",
       "2                                https://buff.ly/2L3kmc4      True  \n",
       "3      https://twitter.com/i/web/status/1019716662587...      True  \n",
       "4                         http://on.forbes.com/6013DqDDU      True  \n",
       "...                                                  ...       ...  \n",
       "28256  https://twitter.com/i/web/status/1019730035576...     False  \n",
       "28260             http://keizai-toushi-navi.com/?p=26838     False  \n",
       "28261  https://twitter.com/CRYPTOVERLOAD/status/10178...     False  \n",
       "28262         http://true.velvet.jp/monexx/archives/2357     False  \n",
       "28263  https://twitter.com/i/web/status/1019730146180...     False  \n",
       "\n",
       "[21895 rows x 8 columns]"
      ]
     },
     "execution_count": 5,
     "metadata": {},
     "output_type": "execute_result"
    }
   ],
   "source": [
    "#drop rows with missing values\n",
    "stock_data.dropna()"
   ]
  },
  {
   "cell_type": "code",
   "execution_count": 6,
   "id": "06677500",
   "metadata": {
    "execution": {
     "iopub.execute_input": "2023-05-19T16:15:04.530328Z",
     "iopub.status.busy": "2023-05-19T16:15:04.530002Z",
     "iopub.status.idle": "2023-05-19T16:15:04.551513Z",
     "shell.execute_reply": "2023-05-19T16:15:04.550543Z"
    },
    "papermill": {
     "duration": 0.031125,
     "end_time": "2023-05-19T16:15:04.553769",
     "exception": false,
     "start_time": "2023-05-19T16:15:04.522644",
     "status": "completed"
    },
    "tags": []
   },
   "outputs": [
    {
     "name": "stdout",
     "output_type": "stream",
     "text": [
      "12.5\n"
     ]
    },
    {
     "data": {
      "text/html": [
       "<div>\n",
       "<style scoped>\n",
       "    .dataframe tbody tr th:only-of-type {\n",
       "        vertical-align: middle;\n",
       "    }\n",
       "\n",
       "    .dataframe tbody tr th {\n",
       "        vertical-align: top;\n",
       "    }\n",
       "\n",
       "    .dataframe thead th {\n",
       "        text-align: right;\n",
       "    }\n",
       "</style>\n",
       "<table border=\"1\" class=\"dataframe\">\n",
       "  <thead>\n",
       "    <tr style=\"text-align: right;\">\n",
       "      <th></th>\n",
       "      <th>id</th>\n",
       "      <th>text</th>\n",
       "      <th>timestamp</th>\n",
       "      <th>source</th>\n",
       "      <th>symbols</th>\n",
       "      <th>company_names</th>\n",
       "      <th>url</th>\n",
       "      <th>verified</th>\n",
       "    </tr>\n",
       "  </thead>\n",
       "  <tbody>\n",
       "    <tr>\n",
       "      <th>0</th>\n",
       "      <td>1019696670777503700</td>\n",
       "      <td>VIDEO: “I was in my office. I was minding my o...</td>\n",
       "      <td>Wed Jul 18 21:33:26 +0000 2018</td>\n",
       "      <td>GoldmanSachs</td>\n",
       "      <td>GS</td>\n",
       "      <td>The Goldman Sachs</td>\n",
       "      <td>https://twitter.com/i/web/status/1019696670777...</td>\n",
       "      <td>True</td>\n",
       "    </tr>\n",
       "    <tr>\n",
       "      <th>1</th>\n",
       "      <td>1019709091038548000</td>\n",
       "      <td>The price of lumber $LB_F is down 22% since hi...</td>\n",
       "      <td>Wed Jul 18 22:22:47 +0000 2018</td>\n",
       "      <td>StockTwits</td>\n",
       "      <td>M</td>\n",
       "      <td>Macy's</td>\n",
       "      <td>https://twitter.com/i/web/status/1019709091038...</td>\n",
       "      <td>True</td>\n",
       "    </tr>\n",
       "    <tr>\n",
       "      <th>2</th>\n",
       "      <td>1019711413798035500</td>\n",
       "      <td>Who says the American Dream is dead? https://t...</td>\n",
       "      <td>Wed Jul 18 22:32:01 +0000 2018</td>\n",
       "      <td>TheStreet</td>\n",
       "      <td>AIG</td>\n",
       "      <td>American</td>\n",
       "      <td>https://buff.ly/2L3kmc4</td>\n",
       "      <td>True</td>\n",
       "    </tr>\n",
       "    <tr>\n",
       "      <th>3</th>\n",
       "      <td>1019716662587740200</td>\n",
       "      <td>Barry Silbert is extremely optimistic on bitco...</td>\n",
       "      <td>Wed Jul 18 22:52:52 +0000 2018</td>\n",
       "      <td>MarketWatch</td>\n",
       "      <td>BTC</td>\n",
       "      <td>Bitcoin</td>\n",
       "      <td>https://twitter.com/i/web/status/1019716662587...</td>\n",
       "      <td>True</td>\n",
       "    </tr>\n",
       "    <tr>\n",
       "      <th>4</th>\n",
       "      <td>1019718460287389700</td>\n",
       "      <td>How satellites avoid attacks and space junk wh...</td>\n",
       "      <td>Wed Jul 18 23:00:01 +0000 2018</td>\n",
       "      <td>Forbes</td>\n",
       "      <td>ORCL</td>\n",
       "      <td>Oracle</td>\n",
       "      <td>http://on.forbes.com/6013DqDDU</td>\n",
       "      <td>True</td>\n",
       "    </tr>\n",
       "    <tr>\n",
       "      <th>...</th>\n",
       "      <td>...</td>\n",
       "      <td>...</td>\n",
       "      <td>...</td>\n",
       "      <td>...</td>\n",
       "      <td>...</td>\n",
       "      <td>...</td>\n",
       "      <td>...</td>\n",
       "      <td>...</td>\n",
       "    </tr>\n",
       "    <tr>\n",
       "      <th>27959</th>\n",
       "      <td>1019725195492249600</td>\n",
       "      <td>RT @LauraJKeller: See ya'll one more time toni...</td>\n",
       "      <td>Wed Jul 18 23:26:46 +0000 2018</td>\n",
       "      <td>HaidiLun</td>\n",
       "      <td>JPM</td>\n",
       "      <td>JPMorgan Chase &amp; Co.</td>\n",
       "      <td>NaN</td>\n",
       "      <td>True</td>\n",
       "    </tr>\n",
       "    <tr>\n",
       "      <th>27973</th>\n",
       "      <td>1019725521645703200</td>\n",
       "      <td>$SAN did not have a good quarter and it was su...</td>\n",
       "      <td>Wed Jul 18 23:28:04 +0000 2018</td>\n",
       "      <td>jimcramer</td>\n",
       "      <td>SAN</td>\n",
       "      <td>Banco Santander</td>\n",
       "      <td>https://twitter.com/Marineteam21/status/101971...</td>\n",
       "      <td>True</td>\n",
       "    </tr>\n",
       "    <tr>\n",
       "      <th>28084</th>\n",
       "      <td>1019727809995034600</td>\n",
       "      <td>$AMAT bulls score big overnight https://t.co/C...</td>\n",
       "      <td>Wed Jul 18 23:37:10 +0000 2018</td>\n",
       "      <td>petenajarian</td>\n",
       "      <td>AMAT</td>\n",
       "      <td>Applied Materials</td>\n",
       "      <td>http://zpr.io/6XWjS</td>\n",
       "      <td>True</td>\n",
       "    </tr>\n",
       "    <tr>\n",
       "      <th>28120</th>\n",
       "      <td>1019728263600595000</td>\n",
       "      <td>$AMAT bulls score big overnight https://t.co/O...</td>\n",
       "      <td>Wed Jul 18 23:38:58 +0000 2018</td>\n",
       "      <td>jonnajarian</td>\n",
       "      <td>AMAT</td>\n",
       "      <td>Applied Materials</td>\n",
       "      <td>http://zpr.io/6XWjS</td>\n",
       "      <td>True</td>\n",
       "    </tr>\n",
       "    <tr>\n",
       "      <th>28165</th>\n",
       "      <td>1019728813176041500</td>\n",
       "      <td>.@MorganStanley stock jumped Wednesday after i...</td>\n",
       "      <td>Wed Jul 18 23:41:09 +0000 2018</td>\n",
       "      <td>usnews</td>\n",
       "      <td>MS</td>\n",
       "      <td>Morgan Stanley</td>\n",
       "      <td>https://trib.al/GG1xcPz</td>\n",
       "      <td>True</td>\n",
       "    </tr>\n",
       "  </tbody>\n",
       "</table>\n",
       "<p>362 rows × 8 columns</p>\n",
       "</div>"
      ],
      "text/plain": [
       "                        id                                               text  \\\n",
       "0      1019696670777503700  VIDEO: “I was in my office. I was minding my o...   \n",
       "1      1019709091038548000  The price of lumber $LB_F is down 22% since hi...   \n",
       "2      1019711413798035500  Who says the American Dream is dead? https://t...   \n",
       "3      1019716662587740200  Barry Silbert is extremely optimistic on bitco...   \n",
       "4      1019718460287389700  How satellites avoid attacks and space junk wh...   \n",
       "...                    ...                                                ...   \n",
       "27959  1019725195492249600  RT @LauraJKeller: See ya'll one more time toni...   \n",
       "27973  1019725521645703200  $SAN did not have a good quarter and it was su...   \n",
       "28084  1019727809995034600  $AMAT bulls score big overnight https://t.co/C...   \n",
       "28120  1019728263600595000  $AMAT bulls score big overnight https://t.co/O...   \n",
       "28165  1019728813176041500  .@MorganStanley stock jumped Wednesday after i...   \n",
       "\n",
       "                            timestamp        source symbols  \\\n",
       "0      Wed Jul 18 21:33:26 +0000 2018  GoldmanSachs      GS   \n",
       "1      Wed Jul 18 22:22:47 +0000 2018    StockTwits       M   \n",
       "2      Wed Jul 18 22:32:01 +0000 2018     TheStreet     AIG   \n",
       "3      Wed Jul 18 22:52:52 +0000 2018   MarketWatch     BTC   \n",
       "4      Wed Jul 18 23:00:01 +0000 2018        Forbes    ORCL   \n",
       "...                               ...           ...     ...   \n",
       "27959  Wed Jul 18 23:26:46 +0000 2018      HaidiLun     JPM   \n",
       "27973  Wed Jul 18 23:28:04 +0000 2018     jimcramer     SAN   \n",
       "28084  Wed Jul 18 23:37:10 +0000 2018  petenajarian    AMAT   \n",
       "28120  Wed Jul 18 23:38:58 +0000 2018   jonnajarian    AMAT   \n",
       "28165  Wed Jul 18 23:41:09 +0000 2018        usnews      MS   \n",
       "\n",
       "              company_names  \\\n",
       "0         The Goldman Sachs   \n",
       "1                    Macy's   \n",
       "2                  American   \n",
       "3                   Bitcoin   \n",
       "4                    Oracle   \n",
       "...                     ...   \n",
       "27959  JPMorgan Chase & Co.   \n",
       "27973       Banco Santander   \n",
       "28084     Applied Materials   \n",
       "28120     Applied Materials   \n",
       "28165        Morgan Stanley   \n",
       "\n",
       "                                                     url  verified  \n",
       "0      https://twitter.com/i/web/status/1019696670777...      True  \n",
       "1      https://twitter.com/i/web/status/1019709091038...      True  \n",
       "2                                https://buff.ly/2L3kmc4      True  \n",
       "3      https://twitter.com/i/web/status/1019716662587...      True  \n",
       "4                         http://on.forbes.com/6013DqDDU      True  \n",
       "...                                                  ...       ...  \n",
       "27959                                                NaN      True  \n",
       "27973  https://twitter.com/Marineteam21/status/101971...      True  \n",
       "28084                                http://zpr.io/6XWjS      True  \n",
       "28120                                http://zpr.io/6XWjS      True  \n",
       "28165                            https://trib.al/GG1xcPz      True  \n",
       "\n",
       "[362 rows x 8 columns]"
      ]
     },
     "execution_count": 6,
     "metadata": {},
     "output_type": "execute_result"
    }
   ],
   "source": [
    "unverified_count = (stock_data['verified'] == False).value_counts()\n",
    "unverified_count\n",
    "total_unverified = unverified_count.sum()\n",
    "# percent of data that is unverified\n",
    "percent_unverified = (total_unverified/total_cells) * 100\n",
    "print(percent_unverified)\n",
    "#filter all rows with unverified data\n",
    "stock_data = stock_data[stock_data['verified'] == True]\n",
    "stock_data\n",
    "\n",
    "    \n"
   ]
  },
  {
   "cell_type": "markdown",
   "id": "d62ddf68",
   "metadata": {
    "papermill": {
     "duration": 0.00576,
     "end_time": "2023-05-19T16:15:04.565363",
     "exception": false,
     "start_time": "2023-05-19T16:15:04.559603",
     "status": "completed"
    },
    "tags": []
   },
   "source": [
    "# Unverified tweets"
   ]
  },
  {
   "cell_type": "markdown",
   "id": "59f52915",
   "metadata": {
    "papermill": {
     "duration": 0.005423,
     "end_time": "2023-05-19T16:15:04.576529",
     "exception": false,
     "start_time": "2023-05-19T16:15:04.571106",
     "status": "completed"
    },
    "tags": []
   },
   "source": [
    "# Special characters"
   ]
  },
  {
   "cell_type": "code",
   "execution_count": 7,
   "id": "004a3ebd",
   "metadata": {
    "execution": {
     "iopub.execute_input": "2023-05-19T16:15:04.589879Z",
     "iopub.status.busy": "2023-05-19T16:15:04.589118Z",
     "iopub.status.idle": "2023-05-19T16:15:04.621513Z",
     "shell.execute_reply": "2023-05-19T16:15:04.620513Z"
    },
    "papermill": {
     "duration": 0.041431,
     "end_time": "2023-05-19T16:15:04.623777",
     "exception": false,
     "start_time": "2023-05-19T16:15:04.582346",
     "status": "completed"
    },
    "tags": []
   },
   "outputs": [
    {
     "data": {
      "text/html": [
       "<div>\n",
       "<style scoped>\n",
       "    .dataframe tbody tr th:only-of-type {\n",
       "        vertical-align: middle;\n",
       "    }\n",
       "\n",
       "    .dataframe tbody tr th {\n",
       "        vertical-align: top;\n",
       "    }\n",
       "\n",
       "    .dataframe thead th {\n",
       "        text-align: right;\n",
       "    }\n",
       "</style>\n",
       "<table border=\"1\" class=\"dataframe\">\n",
       "  <thead>\n",
       "    <tr style=\"text-align: right;\">\n",
       "      <th></th>\n",
       "      <th>index</th>\n",
       "      <th>id</th>\n",
       "      <th>text</th>\n",
       "      <th>timestamp</th>\n",
       "      <th>source</th>\n",
       "      <th>symbols</th>\n",
       "      <th>company_names</th>\n",
       "      <th>url</th>\n",
       "      <th>verified</th>\n",
       "    </tr>\n",
       "  </thead>\n",
       "  <tbody>\n",
       "    <tr>\n",
       "      <th>0</th>\n",
       "      <td>0</td>\n",
       "      <td>1019696670777503700</td>\n",
       "      <td>VIDEO: “I was in my office. I was minding my o...</td>\n",
       "      <td>Wed Jul 18 21:33:26 +0000 2018</td>\n",
       "      <td>GoldmanSachs</td>\n",
       "      <td>GS</td>\n",
       "      <td>The Goldman Sachs</td>\n",
       "      <td>https://twitter.com/i/web/status/1019696670777...</td>\n",
       "      <td>True</td>\n",
       "    </tr>\n",
       "    <tr>\n",
       "      <th>1</th>\n",
       "      <td>1</td>\n",
       "      <td>1019709091038548000</td>\n",
       "      <td>The price of lumber $LB_F is down 22% since hi...</td>\n",
       "      <td>Wed Jul 18 22:22:47 +0000 2018</td>\n",
       "      <td>StockTwits</td>\n",
       "      <td>M</td>\n",
       "      <td>Macy's</td>\n",
       "      <td>https://twitter.com/i/web/status/1019709091038...</td>\n",
       "      <td>True</td>\n",
       "    </tr>\n",
       "    <tr>\n",
       "      <th>2</th>\n",
       "      <td>2</td>\n",
       "      <td>1019711413798035500</td>\n",
       "      <td>Who says the American Dream is dead? https://t...</td>\n",
       "      <td>Wed Jul 18 22:32:01 +0000 2018</td>\n",
       "      <td>TheStreet</td>\n",
       "      <td>AIG</td>\n",
       "      <td>American</td>\n",
       "      <td>https://buff.ly/2L3kmc4</td>\n",
       "      <td>True</td>\n",
       "    </tr>\n",
       "    <tr>\n",
       "      <th>3</th>\n",
       "      <td>3</td>\n",
       "      <td>1019716662587740200</td>\n",
       "      <td>Barry Silbert is extremely optimistic on bitco...</td>\n",
       "      <td>Wed Jul 18 22:52:52 +0000 2018</td>\n",
       "      <td>MarketWatch</td>\n",
       "      <td>BTC</td>\n",
       "      <td>Bitcoin</td>\n",
       "      <td>https://twitter.com/i/web/status/1019716662587...</td>\n",
       "      <td>True</td>\n",
       "    </tr>\n",
       "    <tr>\n",
       "      <th>4</th>\n",
       "      <td>4</td>\n",
       "      <td>1019718460287389700</td>\n",
       "      <td>How satellites avoid attacks and space junk wh...</td>\n",
       "      <td>Wed Jul 18 23:00:01 +0000 2018</td>\n",
       "      <td>Forbes</td>\n",
       "      <td>ORCL</td>\n",
       "      <td>Oracle</td>\n",
       "      <td>http://on.forbes.com/6013DqDDU</td>\n",
       "      <td>True</td>\n",
       "    </tr>\n",
       "    <tr>\n",
       "      <th>...</th>\n",
       "      <td>...</td>\n",
       "      <td>...</td>\n",
       "      <td>...</td>\n",
       "      <td>...</td>\n",
       "      <td>...</td>\n",
       "      <td>...</td>\n",
       "      <td>...</td>\n",
       "      <td>...</td>\n",
       "      <td>...</td>\n",
       "    </tr>\n",
       "    <tr>\n",
       "      <th>357</th>\n",
       "      <td>27959</td>\n",
       "      <td>1019725195492249600</td>\n",
       "      <td>RT @LauraJKeller: See ya'll one more time toni...</td>\n",
       "      <td>Wed Jul 18 23:26:46 +0000 2018</td>\n",
       "      <td>HaidiLun</td>\n",
       "      <td>JPM</td>\n",
       "      <td>JPMorgan Chase &amp; Co.</td>\n",
       "      <td>NaN</td>\n",
       "      <td>True</td>\n",
       "    </tr>\n",
       "    <tr>\n",
       "      <th>358</th>\n",
       "      <td>27973</td>\n",
       "      <td>1019725521645703200</td>\n",
       "      <td>$SAN did not have a good quarter and it was su...</td>\n",
       "      <td>Wed Jul 18 23:28:04 +0000 2018</td>\n",
       "      <td>jimcramer</td>\n",
       "      <td>SAN</td>\n",
       "      <td>Banco Santander</td>\n",
       "      <td>https://twitter.com/Marineteam21/status/101971...</td>\n",
       "      <td>True</td>\n",
       "    </tr>\n",
       "    <tr>\n",
       "      <th>359</th>\n",
       "      <td>28084</td>\n",
       "      <td>1019727809995034600</td>\n",
       "      <td>$AMAT bulls score big overnight https://t.co/C...</td>\n",
       "      <td>Wed Jul 18 23:37:10 +0000 2018</td>\n",
       "      <td>petenajarian</td>\n",
       "      <td>AMAT</td>\n",
       "      <td>Applied Materials</td>\n",
       "      <td>http://zpr.io/6XWjS</td>\n",
       "      <td>True</td>\n",
       "    </tr>\n",
       "    <tr>\n",
       "      <th>360</th>\n",
       "      <td>28120</td>\n",
       "      <td>1019728263600595000</td>\n",
       "      <td>$AMAT bulls score big overnight https://t.co/O...</td>\n",
       "      <td>Wed Jul 18 23:38:58 +0000 2018</td>\n",
       "      <td>jonnajarian</td>\n",
       "      <td>AMAT</td>\n",
       "      <td>Applied Materials</td>\n",
       "      <td>http://zpr.io/6XWjS</td>\n",
       "      <td>True</td>\n",
       "    </tr>\n",
       "    <tr>\n",
       "      <th>361</th>\n",
       "      <td>28165</td>\n",
       "      <td>1019728813176041500</td>\n",
       "      <td>.@MorganStanley stock jumped Wednesday after i...</td>\n",
       "      <td>Wed Jul 18 23:41:09 +0000 2018</td>\n",
       "      <td>usnews</td>\n",
       "      <td>MS</td>\n",
       "      <td>Morgan Stanley</td>\n",
       "      <td>https://trib.al/GG1xcPz</td>\n",
       "      <td>True</td>\n",
       "    </tr>\n",
       "  </tbody>\n",
       "</table>\n",
       "<p>362 rows × 9 columns</p>\n",
       "</div>"
      ],
      "text/plain": [
       "     index                   id  \\\n",
       "0        0  1019696670777503700   \n",
       "1        1  1019709091038548000   \n",
       "2        2  1019711413798035500   \n",
       "3        3  1019716662587740200   \n",
       "4        4  1019718460287389700   \n",
       "..     ...                  ...   \n",
       "357  27959  1019725195492249600   \n",
       "358  27973  1019725521645703200   \n",
       "359  28084  1019727809995034600   \n",
       "360  28120  1019728263600595000   \n",
       "361  28165  1019728813176041500   \n",
       "\n",
       "                                                  text  \\\n",
       "0    VIDEO: “I was in my office. I was minding my o...   \n",
       "1    The price of lumber $LB_F is down 22% since hi...   \n",
       "2    Who says the American Dream is dead? https://t...   \n",
       "3    Barry Silbert is extremely optimistic on bitco...   \n",
       "4    How satellites avoid attacks and space junk wh...   \n",
       "..                                                 ...   \n",
       "357  RT @LauraJKeller: See ya'll one more time toni...   \n",
       "358  $SAN did not have a good quarter and it was su...   \n",
       "359  $AMAT bulls score big overnight https://t.co/C...   \n",
       "360  $AMAT bulls score big overnight https://t.co/O...   \n",
       "361  .@MorganStanley stock jumped Wednesday after i...   \n",
       "\n",
       "                          timestamp        source symbols  \\\n",
       "0    Wed Jul 18 21:33:26 +0000 2018  GoldmanSachs      GS   \n",
       "1    Wed Jul 18 22:22:47 +0000 2018    StockTwits       M   \n",
       "2    Wed Jul 18 22:32:01 +0000 2018     TheStreet     AIG   \n",
       "3    Wed Jul 18 22:52:52 +0000 2018   MarketWatch     BTC   \n",
       "4    Wed Jul 18 23:00:01 +0000 2018        Forbes    ORCL   \n",
       "..                              ...           ...     ...   \n",
       "357  Wed Jul 18 23:26:46 +0000 2018      HaidiLun     JPM   \n",
       "358  Wed Jul 18 23:28:04 +0000 2018     jimcramer     SAN   \n",
       "359  Wed Jul 18 23:37:10 +0000 2018  petenajarian    AMAT   \n",
       "360  Wed Jul 18 23:38:58 +0000 2018   jonnajarian    AMAT   \n",
       "361  Wed Jul 18 23:41:09 +0000 2018        usnews      MS   \n",
       "\n",
       "            company_names                                                url  \\\n",
       "0       The Goldman Sachs  https://twitter.com/i/web/status/1019696670777...   \n",
       "1                  Macy's  https://twitter.com/i/web/status/1019709091038...   \n",
       "2                American                            https://buff.ly/2L3kmc4   \n",
       "3                 Bitcoin  https://twitter.com/i/web/status/1019716662587...   \n",
       "4                  Oracle                     http://on.forbes.com/6013DqDDU   \n",
       "..                    ...                                                ...   \n",
       "357  JPMorgan Chase & Co.                                                NaN   \n",
       "358       Banco Santander  https://twitter.com/Marineteam21/status/101971...   \n",
       "359     Applied Materials                                http://zpr.io/6XWjS   \n",
       "360     Applied Materials                                http://zpr.io/6XWjS   \n",
       "361        Morgan Stanley                            https://trib.al/GG1xcPz   \n",
       "\n",
       "     verified  \n",
       "0        True  \n",
       "1        True  \n",
       "2        True  \n",
       "3        True  \n",
       "4        True  \n",
       "..        ...  \n",
       "357      True  \n",
       "358      True  \n",
       "359      True  \n",
       "360      True  \n",
       "361      True  \n",
       "\n",
       "[362 rows x 9 columns]"
      ]
     },
     "execution_count": 7,
     "metadata": {},
     "output_type": "execute_result"
    }
   ],
   "source": [
    "#drop rows with Japanese characters\n",
    "def contain_japanese(check_str):\n",
    "    for ch in check_str:\n",
    "        if (\"\\u3040\" <= ch and ch <= \"\\u309F\") or (\"\\u30A0\" <= ch and ch <= \"\\u30FF\") or (\"\\u4300\" <= ch and ch <= \"\\u9faf\"):\n",
    "            return True\n",
    "    return False\n",
    "stock_data = stock_data[~stock_data['text'].apply(contain_japanese)].reset_index()\n",
    "stock_data"
   ]
  },
  {
   "cell_type": "markdown",
   "id": "1bc065eb",
   "metadata": {
    "papermill": {
     "duration": 0.005832,
     "end_time": "2023-05-19T16:15:04.635905",
     "exception": false,
     "start_time": "2023-05-19T16:15:04.630073",
     "status": "completed"
    },
    "tags": []
   },
   "source": [
    "# **Data analysis**"
   ]
  },
  {
   "cell_type": "markdown",
   "id": "0f7d74db",
   "metadata": {
    "papermill": {
     "duration": 0.008724,
     "end_time": "2023-05-19T16:15:04.651849",
     "exception": false,
     "start_time": "2023-05-19T16:15:04.643125",
     "status": "completed"
    },
    "tags": []
   },
   "source": [
    "# Tweets by company names"
   ]
  },
  {
   "cell_type": "code",
   "execution_count": 8,
   "id": "8d6a11a4",
   "metadata": {
    "execution": {
     "iopub.execute_input": "2023-05-19T16:15:04.667943Z",
     "iopub.status.busy": "2023-05-19T16:15:04.666751Z",
     "iopub.status.idle": "2023-05-19T16:15:04.677141Z",
     "shell.execute_reply": "2023-05-19T16:15:04.676198Z"
    },
    "papermill": {
     "duration": 0.019824,
     "end_time": "2023-05-19T16:15:04.679149",
     "exception": false,
     "start_time": "2023-05-19T16:15:04.659325",
     "status": "completed"
    },
    "tags": []
   },
   "outputs": [
    {
     "data": {
      "text/plain": [
       "Cisco Systems                      12\n",
       "eBay Inc.                          10\n",
       "Biogen Inc.                         9\n",
       "Envision Healthcare Corporation     9\n",
       "JPMorgan Chase & Co.                8\n",
       "Northern Trust Corporation          8\n",
       "American Airlines Group Inc.        8\n",
       "Alphabet Inc.                       7\n",
       "Hilton Worldwide Holdings Inc.      7\n",
       "Morgan Stanley                      7\n",
       "Name: company_names, dtype: int64"
      ]
     },
     "execution_count": 8,
     "metadata": {},
     "output_type": "execute_result"
    }
   ],
   "source": [
    "company_count= stock_data['company_names'].value_counts().head(10)\n",
    "company_count"
   ]
  },
  {
   "cell_type": "code",
   "execution_count": 9,
   "id": "293320f4",
   "metadata": {
    "execution": {
     "iopub.execute_input": "2023-05-19T16:15:04.693920Z",
     "iopub.status.busy": "2023-05-19T16:15:04.693135Z",
     "iopub.status.idle": "2023-05-19T16:15:05.066313Z",
     "shell.execute_reply": "2023-05-19T16:15:05.065081Z"
    },
    "papermill": {
     "duration": 0.383146,
     "end_time": "2023-05-19T16:15:05.069065",
     "exception": false,
     "start_time": "2023-05-19T16:15:04.685919",
     "status": "completed"
    },
    "tags": []
   },
   "outputs": [
    {
     "data": {
      "text/plain": [
       "Text(0.5, 1.0, 'Tweets numbers of the 10 most frequently mentioned companies')"
      ]
     },
     "execution_count": 9,
     "metadata": {},
     "output_type": "execute_result"
    },
    {
     "data": {
      "image/png": "[encoded data removed]",
      "text/plain": [
       "<Figure size 640x480 with 1 Axes>"
      ]
     },
     "metadata": {},
     "output_type": "display_data"
    }
   ],
   "source": [
    "company_count.plot.bar()\n",
    "plt.ylabel(\"Number of tweets\")\n",
    "plt.xlabel(\"Company names\")\n",
    "plt.title(\"Tweets numbers of the 10 most frequently mentioned companies\")"
   ]
  },
  {
   "cell_type": "markdown",
   "id": "5377d1fc",
   "metadata": {
    "papermill": {
     "duration": 0.007003,
     "end_time": "2023-05-19T16:15:05.084364",
     "exception": false,
     "start_time": "2023-05-19T16:15:05.077361",
     "status": "completed"
    },
    "tags": []
   },
   "source": [
    "# Tweets by source"
   ]
  },
  {
   "cell_type": "code",
   "execution_count": 10,
   "id": "901b6875",
   "metadata": {
    "execution": {
     "iopub.execute_input": "2023-05-19T16:15:05.100829Z",
     "iopub.status.busy": "2023-05-19T16:15:05.099804Z",
     "iopub.status.idle": "2023-05-19T16:15:05.108181Z",
     "shell.execute_reply": "2023-05-19T16:15:05.107393Z"
    },
    "papermill": {
     "duration": 0.018651,
     "end_time": "2023-05-19T16:15:05.110068",
     "exception": false,
     "start_time": "2023-05-19T16:15:05.091417",
     "status": "completed"
    },
    "tags": []
   },
   "outputs": [
    {
     "data": {
      "text/plain": [
       "Benzinga         23\n",
       "jonnajarian      15\n",
       "Barchart         13\n",
       "petenajarian     13\n",
       "Estimize         13\n",
       "TheStreet        12\n",
       "OphirGottlieb    11\n",
       "eBayNewsroom      9\n",
       "Reuters           9\n",
       "MarketSmith       7\n",
       "Name: source, dtype: int64"
      ]
     },
     "execution_count": 10,
     "metadata": {},
     "output_type": "execute_result"
    }
   ],
   "source": [
    "source_count= stock_data['source'].value_counts().head(10)\n",
    "source_count"
   ]
  },
  {
   "cell_type": "code",
   "execution_count": 11,
   "id": "7f49cd43",
   "metadata": {
    "execution": {
     "iopub.execute_input": "2023-05-19T16:15:05.126643Z",
     "iopub.status.busy": "2023-05-19T16:15:05.126053Z",
     "iopub.status.idle": "2023-05-19T16:15:05.403061Z",
     "shell.execute_reply": "2023-05-19T16:15:05.402055Z"
    },
    "papermill": {
     "duration": 0.287676,
     "end_time": "2023-05-19T16:15:05.405161",
     "exception": false,
     "start_time": "2023-05-19T16:15:05.117485",
     "status": "completed"
    },
    "tags": []
   },
   "outputs": [
    {
     "data": {
      "text/plain": [
       "Text(0.5, 1.0, 'Tweets numbers of the 10 most frequently publishing sources')"
      ]
     },
     "execution_count": 11,
     "metadata": {},
     "output_type": "execute_result"
    },
    {
     "data": {
      "image/png": "[encoded data removed]",
      "text/plain": [
       "<Figure size 640x480 with 1 Axes>"
      ]
     },
     "metadata": {},
     "output_type": "display_data"
    }
   ],
   "source": [
    "source_count.plot.bar()\n",
    "plt.ylabel(\"Number of tweets\")\n",
    "plt.xlabel(\"Sources\")\n",
    "plt.title(\"Tweets numbers of the 10 most frequently publishing sources\")"
   ]
  },
  {
   "cell_type": "code",
   "execution_count": 12,
   "id": "f506e05f",
   "metadata": {
    "execution": {
     "iopub.execute_input": "2023-05-19T16:15:05.423444Z",
     "iopub.status.busy": "2023-05-19T16:15:05.422661Z",
     "iopub.status.idle": "2023-05-19T16:15:05.522632Z",
     "shell.execute_reply": "2023-05-19T16:15:05.521627Z"
    },
    "papermill": {
     "duration": 0.111784,
     "end_time": "2023-05-19T16:15:05.525141",
     "exception": false,
     "start_time": "2023-05-19T16:15:05.413357",
     "status": "completed"
    },
    "tags": []
   },
   "outputs": [
    {
     "data": {
      "text/plain": [
       "{'SCOOP:': 6,\n",
       " 'Amazon': 8,\n",
       " 'has': 8,\n",
       " 'gone': 6,\n",
       " 'on': 9,\n",
       " 'the': 6,\n",
       " 'record': 6,\n",
       " 'to': 14,\n",
       " 'deny': 6,\n",
       " 'that': 8,\n",
       " 'it': 8,\n",
       " 'will': 8,\n",
       " 'challenge': 8,\n",
       " 'Cisco': 10,\n",
       " 'by': 9,\n",
       " 'selling': 7,\n",
       " 'network': 6,\n",
       " 'switches': 6,\n",
       " 'other': 6,\n",
       " 'busi…': 1,\n",
       " 'https://t.co/S3koeNjq0j': 1,\n",
       " 'RT': 6,\n",
       " '@jowens510:': 5,\n",
       " 'businesses.': 5,\n",
       " 'h…': 5,\n",
       " '$CSCO': 6,\n",
       " 'stock': 1,\n",
       " 'now': 1,\n",
       " 'up': 4,\n",
       " '3%': 1,\n",
       " 'in': 2,\n",
       " 'after-hours': 1,\n",
       " 'trading.': 1,\n",
       " 'Now': 2,\n",
       " '3.65%': 2,\n",
       " 'after': 2,\n",
       " 'hours': 3,\n",
       " 'report': 2,\n",
       " 'denying': 2,\n",
       " '$AMZN': 4,\n",
       " 'current': 2,\n",
       " 'plans': 2,\n",
       " 'compete': 2,\n",
       " 'directly': 2,\n",
       " 'with': 3,\n",
       " 'sel…': 1,\n",
       " 'https://t.co/GZYUKstOzy': 1,\n",
       " 'Nice': 1,\n",
       " 'scoop': 1,\n",
       " '@MarketWatch': 1,\n",
       " 'tech': 1,\n",
       " 'editor': 1,\n",
       " '@jowens510': 1,\n",
       " 'https://t.co/WC1LZljszE': 1,\n",
       " 'https://t.co/tzaYzlB3EC': 1,\n",
       " 'Exclusive:': 2,\n",
       " 'denies': 2,\n",
       " 'switch': 1,\n",
       " 'sales': 1,\n",
       " 'via': 1,\n",
       " '@YahooFinance': 1,\n",
       " '-': 1,\n",
       " '$ANET': 1,\n",
       " '@MattRosoff:': 1,\n",
       " 'swi…': 1,\n",
       " 'Systems': 1,\n",
       " 'Inc.': 1,\n",
       " '2.49%': 1,\n",
       " 'After': 1,\n",
       " 'trade': 1,\n",
       " 'news.......': 1,\n",
       " 'C…': 1,\n",
       " 'https://t.co/FBqlluFdQR': 1}"
      ]
     },
     "execution_count": 12,
     "metadata": {},
     "output_type": "execute_result"
    }
   ],
   "source": [
    "cnt = {}\n",
    "all_names = stock_data['company_names'].unique()\n",
    "for company_names in all_names:\n",
    "    cnt[company_names] = {}\n",
    "    \n",
    "def wordcnt(row):\n",
    "    a = row.text\n",
    "    a = a.split()\n",
    "    for word in a:\n",
    "        #print(cnt[row['company_names']][word]\n",
    "        if not word in cnt[row['company_names']]:\n",
    "            cnt[row['company_names']][word] = 1\n",
    "        else:\n",
    "            cnt[row['company_names']][word] += 1\n",
    "    return row\n",
    "stock_data.apply(wordcnt, axis ='columns')\n",
    "\n",
    "cnt['Cisco Systems']\n"
   ]
  }
 ],
 "metadata": {
  "kernelspec": {
   "display_name": "Python 3",
   "language": "python",
   "name": "python3"
  },
  "language_info": {
   "codemirror_mode": {
    "name": "ipython",
    "version": 3
   },
   "file_extension": ".py",
   "mimetype": "text/x-python",
   "name": "python",
   "nbconvert_exporter": "python",
   "pygments_lexer": "ipython3",
   "version": "3.10.10"
  },
  "papermill": {
   "default_parameters": {},
   "duration": 12.891095,
   "end_time": "2023-05-19T16:15:06.359616",
   "environment_variables": {},
   "exception": null,
   "input_path": "__notebook__.ipynb",
   "output_path": "__notebook__.ipynb",
   "parameters": {},
   "start_time": "2023-05-19T16:14:53.468521",
   "version": "2.4.0"
  }
 },
 "nbformat": 4,
 "nbformat_minor": 5
}
